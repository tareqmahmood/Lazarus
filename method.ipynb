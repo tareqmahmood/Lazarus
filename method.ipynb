{
 "cells": [
  {
   "cell_type": "code",
   "execution_count": 1,
   "metadata": {},
   "outputs": [],
   "source": [
    "import numpy as np"
   ]
  },
  {
   "cell_type": "markdown",
   "metadata": {},
   "source": [
    "# Params"
   ]
  },
  {
   "cell_type": "code",
   "execution_count": 2,
   "metadata": {},
   "outputs": [],
   "source": [
    "N = 7 # number of nodes\n",
    "c = 2 # number of replicas per node\n",
    "E = 4 # number of experts\n",
    "f = 2 # fault tolerance, min number of replicas per expert"
   ]
  },
  {
   "cell_type": "code",
   "execution_count": 3,
   "metadata": {},
   "outputs": [],
   "source": [
    "assert N * c >= E * f, \"Not enough replicas to tolerate f faults\""
   ]
  },
  {
   "cell_type": "markdown",
   "metadata": {},
   "source": [
    "# Imaginary Stats"
   ]
  },
  {
   "cell_type": "code",
   "execution_count": 4,
   "metadata": {},
   "outputs": [
    {
     "data": {
      "text/plain": [
       "array([100, 200, 300, 400])"
      ]
     },
     "execution_count": 4,
     "metadata": {},
     "output_type": "execute_result"
    }
   ],
   "source": [
    "# number of tokens routed to experts\n",
    "t = (np.arange(E) + 1) * 100\n",
    "t"
   ]
  },
  {
   "cell_type": "markdown",
   "metadata": {},
   "source": [
    "# Expert Allocation\n",
    "\n",
    "$$ r_e = \\max \\left\\{ \\left\\lfloor \\frac{t_e}{\\sum_{e'=e}^{E} t_{e'}} \\cdot \\left(N \\cdot c - \\sum_{e'=1}^{e-1} r_{e'} \\right) \\right\\rfloor, f \\right\\} $$"
   ]
  },
  {
   "cell_type": "code",
   "execution_count": 5,
   "metadata": {},
   "outputs": [
    {
     "data": {
      "text/plain": [
       "array([2., 2., 4., 6.])"
      ]
     },
     "execution_count": 5,
     "metadata": {},
     "output_type": "execute_result"
    }
   ],
   "source": [
    "# number of allocated replicas per expert\n",
    "r = np.zeros(E)\n",
    "\n",
    "for e in range(E):\n",
    "    weighted_t = t[e] / np.sum(t[e:])\n",
    "    total_r = np.sum(r[:e])\n",
    "    r_count = np.floor(weighted_t * (N * c - total_r))\n",
    "    r[e] = max(r_count, f)\n",
    "\n",
    "r"
   ]
  },
  {
   "cell_type": "markdown",
   "metadata": {},
   "source": [
    "# Expert Placement\n",
    "## Case 2: $E > c$"
   ]
  },
  {
   "cell_type": "code",
   "execution_count": 6,
   "metadata": {},
   "outputs": [
    {
     "data": {
      "text/plain": [
       "2"
      ]
     },
     "execution_count": 6,
     "metadata": {},
     "output_type": "execute_result"
    }
   ],
   "source": [
    "Ec = int(np.ceil(E / c))\n",
    "Ec"
   ]
  },
  {
   "cell_type": "code",
   "execution_count": 7,
   "metadata": {},
   "outputs": [
    {
     "data": {
      "text/plain": [
       "[[0, 1], [2, 3]]"
      ]
     },
     "execution_count": 7,
     "metadata": {},
     "output_type": "execute_result"
    }
   ],
   "source": [
    "# expert partitions\n",
    "ep = [ [] for _ in range(Ec) ]\n",
    "for e in range(E):\n",
    "    ep[e // c].append(e)\n",
    "ep"
   ]
  },
  {
   "cell_type": "code",
   "execution_count": 8,
   "metadata": {},
   "outputs": [
    {
     "data": {
      "text/plain": [
       "7"
      ]
     },
     "execution_count": 8,
     "metadata": {},
     "output_type": "execute_result"
    }
   ],
   "source": [
    "# node partitions\n",
    "\n",
    "s = np.sum([r[c * i + 1] for i in range(Ec)])\n",
    "min(N, s)"
   ]
  },
  {
   "cell_type": "code",
   "execution_count": 9,
   "metadata": {},
   "outputs": [
    {
     "name": "stdout",
     "output_type": "stream",
     "text": [
      "Node group 0: 2 nodes. Belongs to experts [0, 1]\n",
      "Node group 1: 5 nodes. Belongs to experts [2, 3]\n"
     ]
    }
   ],
   "source": [
    "# node groups\n",
    "\n",
    "slots = np.ones((N, c), dtype=np.int32) * (-1)\n",
    "last_n = 0\n",
    "r_rem = r.copy()\n",
    "\n",
    "for k in range(Ec):\n",
    "    n = r[c * k]\n",
    "    if k == Ec - 1:\n",
    "        n = min(N - np.sum([r[c * i + 1] for i in range(Ec - 1)]), r[c * (Ec - 1) + 1])\n",
    "    n = int(n)\n",
    "\n",
    "    print(f\"Node group {k}: {n} nodes. Belongs to experts {ep[k]}\")\n",
    "\n",
    "    for j in range(last_n, last_n + n):\n",
    "        for i in range(min(c, len(ep[k]))):\n",
    "            e = ep[k][i]\n",
    "            r_rem[e] -= 1\n",
    "            slots[j][i] = e\n",
    "\n",
    "    last_n += n"
   ]
  },
  {
   "cell_type": "code",
   "execution_count": 10,
   "metadata": {},
   "outputs": [],
   "source": [
    "# fill remaining slots\n",
    "\n",
    "e_i = 0\n",
    "\n",
    "for i in range(N):\n",
    "    for j in range(c):\n",
    "        if slots[i][j] == -1:\n",
    "            while r_rem[e_i] == 0:\n",
    "                e_i += 1\n",
    "            slots[i][j] = e_i\n",
    "            r_rem[e_i] -= 1"
   ]
  },
  {
   "cell_type": "code",
   "execution_count": 11,
   "metadata": {},
   "outputs": [
    {
     "data": {
      "text/plain": [
       "array([[0, 1],\n",
       "       [0, 1],\n",
       "       [2, 3],\n",
       "       [2, 3],\n",
       "       [2, 3],\n",
       "       [2, 3],\n",
       "       [2, 3]], dtype=int32)"
      ]
     },
     "execution_count": 11,
     "metadata": {},
     "output_type": "execute_result"
    }
   ],
   "source": [
    "slots"
   ]
  }
 ],
 "metadata": {
  "kernelspec": {
   "display_name": "base",
   "language": "python",
   "name": "python3"
  },
  "language_info": {
   "codemirror_mode": {
    "name": "ipython",
    "version": 3
   },
   "file_extension": ".py",
   "mimetype": "text/x-python",
   "name": "python",
   "nbconvert_exporter": "python",
   "pygments_lexer": "ipython3",
   "version": "3.12.3"
  }
 },
 "nbformat": 4,
 "nbformat_minor": 2
}
